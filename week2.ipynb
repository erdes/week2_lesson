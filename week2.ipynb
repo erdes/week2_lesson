{
 "cells": [
  {
   "cell_type": "code",
   "execution_count": 72,
   "metadata": {
    "collapsed": false
   },
   "outputs": [
    {
     "name": "stdout",
     "output_type": "stream",
     "text": [
      "[[  3.   2.   7.   8.]\n",
      " [  5.  11.   1.   5.]\n",
      " [ 13.   4.   2.   3.]]\n",
      " の主成分分析\n",
      "\n",
      "固有値は大きい順に\n",
      "38.7915026221\n",
      "28.2084973779\n",
      "-1.80246908085e-15\n",
      "-7.23895176383e-16\n",
      "\n",
      " それに対応する固有ベクトルは\n",
      "[-0.74550218 -0.47783385  0.01527459 -0.23354332]\n",
      "[-0.28140848  0.82633094 -0.26847332 -0.44372736]\n",
      "[ 0.44967437 -0.29707011 -0.71839675 -0.84230005]\n",
      "[ 0.4035204   0.02452211  0.6415566   0.19772245]\n",
      "\n",
      " 特に[ 3.  2.  7.  8.]に対する第一主成分得点は-4.953598714480895\n",
      "\n",
      " 特に[  5.  11.   1.   5.]に対する第一主成分得点は-10.136125331416668\n",
      "\n",
      " 特に[ 13.   4.   2.   3.]に対する第一主成分得点は-12.272944599655238\n",
      "\n",
      " 特に[ 3.  2.  7.  8.]に対する第二主成分得点は-4.620695706080976\n",
      "\n",
      " 特に[  5.  11.   1.   5.]に対する第二主成分得点は5.195487793113569\n",
      "\n",
      " 特に[ 13.   4.   2.   3.]に対する第二主成分得点は-2.2211152243478716\n"
     ]
    }
   ],
   "source": [
    "import csv\n",
    "import numpy as np\n",
    "import numpy.linalg as LA\n",
    "import matplotlib.pyplot as plt\n",
    "import seaborn as sns\n",
    "\n",
    "data=np.loadtxt(\"sample.csv\",delimiter=\",\",dtype=float)\n",
    "\n",
    "Cov=np.cov(data.T)      #   np.covの実装が、(m,n)型行列の入力を(n,m)型の行列と解釈するようなので、本来の意味に戻すため.Tで転置\n",
    "eigen = LA.eig(Cov)      #   固有値と固有ベクトル　　\n",
    "\n",
    "\n",
    "print(\"{0}\\n の主成分分析\\n\".format(data))\n",
    "\n",
    "print(\"固有値は大きい順に\")\n",
    "for i in range(len(eigen[0])):\n",
    "    print(eigen[0][i])\n",
    "\n",
    "    \n",
    "print(\"\\n それに対応する固有ベクトルは\")\n",
    "for i in range(len(eigen[0])):\n",
    "    print(eigen[1][i] )\n",
    "    \n",
    "    \n",
    "Principal=np.dot(data[0],eigen[1][0])\n",
    "\n",
    "for i in range(data.shape[0]):\n",
    "    print(\"\\n 特に{0}に対する第一主成分得点は{1}\".format(data[i],np.dot(data[i],eigen[1][0])))        \n",
    "\n",
    "#  一番大きい固有値に対応する固有ベクトルとの内積をとっている = 射影\n",
    "\n",
    "\n",
    "for i in range(data.shape[0]):\n",
    "    print(\"\\n 特に{0}に対する第二主成分得点は{1}\".format(data[i],np.dot(data[i],eigen[1][1])))        \n",
    "\n",
    "\n",
    "    \n",
    " \n",
    "# 以下、プロットする方法(射影したあとの2次元座標のペアをまとめて代入する方法がわからない。。。)\n",
    "\n",
    "# for i in range(data.shape[0]):\n",
    "#     data_proj=[]\n",
    "#     data_proj[i].append([np.dot(data[i],eigen[1][0]),np.dot(data[i],eigen[1][1])])\n",
    "\n",
    "    \n",
    "# print(data_proj)\n"
   ]
  },
  {
   "cell_type": "code",
   "execution_count": null,
   "metadata": {
    "collapsed": true
   },
   "outputs": [],
   "source": []
  },
  {
   "cell_type": "code",
   "execution_count": null,
   "metadata": {
    "collapsed": true
   },
   "outputs": [],
   "source": []
  }
 ],
 "metadata": {
  "kernelspec": {
   "display_name": "Python 3",
   "language": "python",
   "name": "python3"
  },
  "language_info": {
   "codemirror_mode": {
    "name": "ipython",
    "version": 3
   },
   "file_extension": ".py",
   "mimetype": "text/x-python",
   "name": "python",
   "nbconvert_exporter": "python",
   "pygments_lexer": "ipython3",
   "version": "3.6.0"
  }
 },
 "nbformat": 4,
 "nbformat_minor": 2
}
